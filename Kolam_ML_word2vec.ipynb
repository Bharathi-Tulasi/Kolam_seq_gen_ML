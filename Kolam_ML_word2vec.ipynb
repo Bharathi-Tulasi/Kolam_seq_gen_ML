{
 "cells": [
  {
   "cell_type": "code",
   "execution_count": 1,
   "id": "c5b33f34-c2c8-44c3-b818-6dd4d5af824e",
   "metadata": {},
   "outputs": [
    {
     "name": "stderr",
     "output_type": "stream",
     "text": [
      "C:\\Users\\efm-workstation\\AppData\\Local\\Temp\\ipykernel_11464\\1838615786.py:9: DeprecationWarning: \n",
      "Pyarrow will become a required dependency of pandas in the next major release of pandas (pandas 3.0),\n",
      "(to allow more performant data types, such as the Arrow string type, and better interoperability with other libraries)\n",
      "but was not found to be installed on your system.\n",
      "If this would cause problems for you,\n",
      "please provide us feedback at https://github.com/pandas-dev/pandas/issues/54466\n",
      "        \n",
      "  import pandas as pd\n"
     ]
    }
   ],
   "source": [
    "from sklearn.feature_extraction.text import TfidfVectorizer, CountVectorizer\n",
    "from sklearn.model_selection import train_test_split, GridSearchCV\n",
    "from sklearn.multioutput import MultiOutputClassifier\n",
    "from sklearn.ensemble import RandomForestClassifier\n",
    "from sklearn.metrics import accuracy_score, classification_report\n",
    "from sklearn.multioutput import MultiOutputClassifier\n",
    "\n",
    "import numpy as np\n",
    "import pandas as pd\n",
    "import matplotlib.pyplot as plt\n",
    "import seaborn as sns\n",
    "from sklearn.pipeline import Pipeline"
   ]
  },
  {
   "cell_type": "code",
   "execution_count": 2,
   "id": "c02f92c4-61c2-4bb7-8a63-639d85a7864d",
   "metadata": {},
   "outputs": [],
   "source": [
    "data = pd.read_csv('kolam_dataset_multilabels.csv')\n",
    "inputs = data['input']"
   ]
  },
  {
   "cell_type": "code",
   "execution_count": 3,
   "id": "4dd8e356-7b71-4108-a29a-86a6ea4f0313",
   "metadata": {},
   "outputs": [
    {
     "data": {
      "text/plain": [
       "0                               a\n",
       "1                               b\n",
       "2                               c\n",
       "3                               d\n",
       "4                              ab\n",
       "                  ...            \n",
       "155                  dbac c cd dc\n",
       "156          dbac c c cab b b bac\n",
       "157          dca a a acdb b b bdc\n",
       "158    bacd d dbac c cd d d d dba\n",
       "159           dbac c cd d d d dba\n",
       "Name: input, Length: 160, dtype: object"
      ]
     },
     "execution_count": 3,
     "metadata": {},
     "output_type": "execute_result"
    }
   ],
   "source": [
    "inputs\n"
   ]
  },
  {
   "cell_type": "code",
   "execution_count": 4,
   "id": "52cd03fb-7178-4818-ad03-a0118ba8c9ac",
   "metadata": {},
   "outputs": [
    {
     "data": {
      "text/html": [
       "<div>\n",
       "<style scoped>\n",
       "    .dataframe tbody tr th:only-of-type {\n",
       "        vertical-align: middle;\n",
       "    }\n",
       "\n",
       "    .dataframe tbody tr th {\n",
       "        vertical-align: top;\n",
       "    }\n",
       "\n",
       "    .dataframe thead th {\n",
       "        text-align: right;\n",
       "    }\n",
       "</style>\n",
       "<table border=\"1\" class=\"dataframe\">\n",
       "  <thead>\n",
       "    <tr style=\"text-align: right;\">\n",
       "      <th></th>\n",
       "      <th>a</th>\n",
       "      <th>b</th>\n",
       "      <th>c</th>\n",
       "      <th>d</th>\n",
       "    </tr>\n",
       "  </thead>\n",
       "  <tbody>\n",
       "    <tr>\n",
       "      <th>0</th>\n",
       "      <td>1</td>\n",
       "      <td>1</td>\n",
       "      <td>1</td>\n",
       "      <td>0</td>\n",
       "    </tr>\n",
       "    <tr>\n",
       "      <th>1</th>\n",
       "      <td>1</td>\n",
       "      <td>1</td>\n",
       "      <td>0</td>\n",
       "      <td>1</td>\n",
       "    </tr>\n",
       "    <tr>\n",
       "      <th>2</th>\n",
       "      <td>1</td>\n",
       "      <td>0</td>\n",
       "      <td>1</td>\n",
       "      <td>1</td>\n",
       "    </tr>\n",
       "    <tr>\n",
       "      <th>3</th>\n",
       "      <td>0</td>\n",
       "      <td>1</td>\n",
       "      <td>1</td>\n",
       "      <td>1</td>\n",
       "    </tr>\n",
       "    <tr>\n",
       "      <th>4</th>\n",
       "      <td>0</td>\n",
       "      <td>1</td>\n",
       "      <td>0</td>\n",
       "      <td>0</td>\n",
       "    </tr>\n",
       "    <tr>\n",
       "      <th>...</th>\n",
       "      <td>...</td>\n",
       "      <td>...</td>\n",
       "      <td>...</td>\n",
       "      <td>...</td>\n",
       "    </tr>\n",
       "    <tr>\n",
       "      <th>155</th>\n",
       "      <td>1</td>\n",
       "      <td>0</td>\n",
       "      <td>1</td>\n",
       "      <td>0</td>\n",
       "    </tr>\n",
       "    <tr>\n",
       "      <th>156</th>\n",
       "      <td>0</td>\n",
       "      <td>0</td>\n",
       "      <td>1</td>\n",
       "      <td>1</td>\n",
       "    </tr>\n",
       "    <tr>\n",
       "      <th>157</th>\n",
       "      <td>1</td>\n",
       "      <td>0</td>\n",
       "      <td>1</td>\n",
       "      <td>0</td>\n",
       "    </tr>\n",
       "    <tr>\n",
       "      <th>158</th>\n",
       "      <td>1</td>\n",
       "      <td>0</td>\n",
       "      <td>1</td>\n",
       "      <td>0</td>\n",
       "    </tr>\n",
       "    <tr>\n",
       "      <th>159</th>\n",
       "      <td>1</td>\n",
       "      <td>0</td>\n",
       "      <td>1</td>\n",
       "      <td>0</td>\n",
       "    </tr>\n",
       "  </tbody>\n",
       "</table>\n",
       "<p>160 rows × 4 columns</p>\n",
       "</div>"
      ],
      "text/plain": [
       "     a  b  c  d\n",
       "0    1  1  1  0\n",
       "1    1  1  0  1\n",
       "2    1  0  1  1\n",
       "3    0  1  1  1\n",
       "4    0  1  0  0\n",
       "..  .. .. .. ..\n",
       "155  1  0  1  0\n",
       "156  0  0  1  1\n",
       "157  1  0  1  0\n",
       "158  1  0  1  0\n",
       "159  1  0  1  0\n",
       "\n",
       "[160 rows x 4 columns]"
      ]
     },
     "execution_count": 4,
     "metadata": {},
     "output_type": "execute_result"
    }
   ],
   "source": [
    "labels = data.drop(['input'], axis =1)\n",
    "labels"
   ]
  },
  {
   "cell_type": "code",
   "execution_count": 5,
   "id": "41c46046-a9e9-470d-93dc-d1e88a8fefcc",
   "metadata": {},
   "outputs": [
    {
     "name": "stderr",
     "output_type": "stream",
     "text": [
      "[nltk_data] Downloading package punkt to C:\\Users\\efm-\n",
      "[nltk_data]     workstation\\AppData\\Roaming\\nltk_data...\n",
      "[nltk_data]   Package punkt is already up-to-date!\n"
     ]
    }
   ],
   "source": [
    "from gensim.models import Word2Vec\n",
    "import nltk\n",
    "nltk.download('punkt')\n",
    "from nltk.tokenize import word_tokenize\n",
    "\n",
    "\n",
    "# Assuming inputs is a list of text documents and labels is a list of corresponding labels\n",
    "# Tokenize your input text\n",
    "tokenized_inputs = []\n",
    "for text in inputs:\n",
    "    tokens = word_tokenize(text.lower())\n",
    "    tokenized_inputs.append(tokens)\n",
    "\n",
    "# Train the Word2Vec model\n",
    "word2vec_model = Word2Vec(sentences=tokenized_inputs, vector_size=100, window=5, min_count=1, workers=4)\n",
    "\n",
    "# Vectorize input text using Word2Vec embeddings\n",
    "X = []\n",
    "for tokens in tokenized_inputs:\n",
    "    # Calculate the mean of word vectors for each document\n",
    "    doc_vector = np.mean([word2vec_model.wv[token] for token in tokens if token in word2vec_model.wv], axis=0)\n",
    "    X.append(doc_vector)\n",
    "\n",
    "# Convert X to numpy array\n",
    "X = np.array(X)"
   ]
  },
  {
   "cell_type": "code",
   "execution_count": 9,
   "id": "f44e978b-58f6-4fac-9b01-f12de19f7540",
   "metadata": {},
   "outputs": [
    {
     "data": {
      "text/plain": [
       "array([[ 8.6519940e-05,  3.3124264e-03, -6.7321127e-03, ...,\n",
       "         4.1963515e-04,  8.2388557e-03, -6.9112903e-03],\n",
       "       [-8.2448330e-03,  9.5326332e-03, -1.3123872e-04, ...,\n",
       "        -7.5922576e-03, -2.5037262e-03, -5.4663518e-03],\n",
       "       [-4.9189792e-04,  3.4509110e-04,  5.1286370e-03, ...,\n",
       "        -7.1302252e-03,  9.0571831e-04,  6.4456766e-03],\n",
       "       ...,\n",
       "       [-2.5955513e-03,  5.2654194e-03,  1.7248106e-04, ...,\n",
       "         1.0798306e-03,  2.6407545e-03, -2.4870511e-03],\n",
       "       [-2.6335183e-03,  1.2275662e-03,  2.9670873e-03, ...,\n",
       "        -1.1412036e-03, -3.0794302e-03,  3.4259344e-03],\n",
       "       [-1.4178631e-03,  1.9794677e-03,  4.1776733e-03, ...,\n",
       "        -1.9420154e-03, -3.9405595e-03,  3.2463970e-03]], dtype=float32)"
      ]
     },
     "execution_count": 9,
     "metadata": {},
     "output_type": "execute_result"
    }
   ],
   "source": [
    "X"
   ]
  },
  {
   "cell_type": "code",
   "execution_count": 6,
   "id": "2ca4a38d-9876-4b76-bc43-65766f7c77e9",
   "metadata": {},
   "outputs": [],
   "source": [
    "# Split data into train and test sets\n",
    "X_train, X_test, y_train, y_test = train_test_split(X, labels, test_size=0.2, random_state=42, stratify = labels)"
   ]
  },
  {
   "cell_type": "code",
   "execution_count": 11,
   "id": "72f19e1a-e243-409a-b6d1-ef3d7f416eff",
   "metadata": {},
   "outputs": [
    {
     "name": "stdout",
     "output_type": "stream",
     "text": [
      "SVM Accuracy: 0.46875\n",
      "Classification Report:\n",
      "              precision    recall  f1-score   support\n",
      "\n",
      "           0       0.78      0.82      0.80        17\n",
      "           1       0.70      0.78      0.74        18\n",
      "           2       0.77      0.59      0.67        17\n",
      "           3       0.85      1.00      0.92        17\n",
      "\n",
      "   micro avg       0.77      0.80      0.79        69\n",
      "   macro avg       0.77      0.80      0.78        69\n",
      "weighted avg       0.77      0.80      0.78        69\n",
      " samples avg       0.77      0.74      0.73        69\n",
      "\n"
     ]
    }
   ],
   "source": [
    "from sklearn.svm import SVC\n",
    "\n",
    "# Initialize and train SVM model\n",
    "svm_model = MultiOutputClassifier(SVC())\n",
    "svm_model.fit(X_train, y_train)\n",
    "\n",
    "# Predict labels for test data\n",
    "y_pred_svm = svm_model.predict(X_test)\n",
    "\n",
    "# Evaluate the model\n",
    "svm_accuracy = svm_model.score(X_test, y_test)\n",
    "print(\"SVM Accuracy:\", svm_accuracy)\n",
    "\n",
    "\n",
    "# Print classification report\n",
    "print(\"Classification Report:\")\n",
    "print(classification_report(y_test, y_pred_svm))"
   ]
  },
  {
   "cell_type": "code",
   "execution_count": 12,
   "id": "acd79d75-50f8-4f56-8a55-af6deab56621",
   "metadata": {},
   "outputs": [
    {
     "name": "stdout",
     "output_type": "stream",
     "text": [
      "KNN Accuracy: 0.21875\n",
      "Classification Report:\n",
      "              precision    recall  f1-score   support\n",
      "\n",
      "           0       0.50      0.59      0.54        17\n",
      "           1       0.59      0.72      0.65        18\n",
      "           2       0.59      0.59      0.59        17\n",
      "           3       0.67      0.82      0.74        17\n",
      "\n",
      "   micro avg       0.59      0.68      0.63        69\n",
      "   macro avg       0.59      0.68      0.63        69\n",
      "weighted avg       0.59      0.68      0.63        69\n",
      " samples avg       0.57      0.64      0.58        69\n",
      "\n"
     ]
    }
   ],
   "source": [
    "from sklearn.neighbors import KNeighborsClassifier\n",
    "\n",
    "# Initialize and train KNN model\n",
    "knn_model = MultiOutputClassifier(KNeighborsClassifier())\n",
    "knn_model.fit(X_train, y_train)\n",
    "\n",
    "# Predict labels for test data\n",
    "y_pred_knn = knn_model.predict(X_test)\n",
    "\n",
    "\n",
    "# Evaluate the model\n",
    "knn_accuracy = knn_model.score(X_test, y_test)\n",
    "print(\"KNN Accuracy:\", knn_accuracy)\n",
    "\n",
    "\n",
    "# Print classification report\n",
    "print(\"Classification Report:\")\n",
    "print(classification_report(y_test, y_pred_knn))"
   ]
  },
  {
   "cell_type": "code",
   "execution_count": 19,
   "id": "b8c2ff46-995b-4353-92e9-7cebf227df5a",
   "metadata": {},
   "outputs": [
    {
     "name": "stdout",
     "output_type": "stream",
     "text": [
      "GBM Accuracy: 0.375\n",
      "Classification Report:\n",
      "              precision    recall  f1-score   support\n",
      "\n",
      "           0       0.68      0.76      0.72        17\n",
      "           1       0.67      0.78      0.72        18\n",
      "           2       0.73      0.65      0.69        17\n",
      "           3       0.88      0.82      0.85        17\n",
      "\n",
      "   micro avg       0.73      0.75      0.74        69\n",
      "   macro avg       0.74      0.75      0.74        69\n",
      "weighted avg       0.74      0.75      0.74        69\n",
      " samples avg       0.70      0.69      0.68        69\n",
      "\n"
     ]
    },
    {
     "name": "stderr",
     "output_type": "stream",
     "text": [
      "C:\\Users\\efm-workstation\\AppData\\Local\\Programs\\Python\\Python311\\Lib\\site-packages\\sklearn\\metrics\\_classification.py:1497: UndefinedMetricWarning: Precision is ill-defined and being set to 0.0 in samples with no predicted labels. Use `zero_division` parameter to control this behavior.\n",
      "  _warn_prf(average, modifier, f\"{metric.capitalize()} is\", len(result))\n"
     ]
    }
   ],
   "source": [
    "from sklearn.ensemble import GradientBoostingClassifier\n",
    "\n",
    "# Initialize and train GBM model\n",
    "gbm_model = MultiOutputClassifier(GradientBoostingClassifier())\n",
    "gbm_model.fit(X_train, y_train)\n",
    "\n",
    "\n",
    "# Predict labels for test data\n",
    "y_pred_gbm = gbm_model.predict(X_test)\n",
    "\n",
    "# Evaluate the model\n",
    "gbm_accuracy = gbm_model.score(X_test, y_test)\n",
    "print(\"GBM Accuracy:\", gbm_accuracy)\n",
    "\n",
    "\n",
    "# Print classification report\n",
    "print(\"Classification Report:\")\n",
    "print(classification_report(y_test, y_pred_gbm))"
   ]
  },
  {
   "cell_type": "code",
   "execution_count": 28,
   "id": "f6f64e1e-d8d1-4508-9ee0-31cb2c8ff5aa",
   "metadata": {},
   "outputs": [
    {
     "name": "stdout",
     "output_type": "stream",
     "text": [
      "Accuracy: 0.3125\n",
      "Classification Report:\n",
      "              precision    recall  f1-score   support\n",
      "\n",
      "           0       0.75      0.71      0.73        17\n",
      "           1       0.67      0.67      0.67        18\n",
      "           2       0.69      0.53      0.60        17\n",
      "           3       0.80      0.94      0.86        17\n",
      "\n",
      "   micro avg       0.73      0.71      0.72        69\n",
      "   macro avg       0.73      0.71      0.71        69\n",
      "weighted avg       0.73      0.71      0.71        69\n",
      " samples avg       0.73      0.67      0.66        69\n",
      "\n"
     ]
    },
    {
     "name": "stderr",
     "output_type": "stream",
     "text": [
      "C:\\Users\\efm-workstation\\AppData\\Local\\Programs\\Python\\Python311\\Lib\\site-packages\\sklearn\\metrics\\_classification.py:1497: UndefinedMetricWarning: Precision is ill-defined and being set to 0.0 in samples with no predicted labels. Use `zero_division` parameter to control this behavior.\n",
      "  _warn_prf(average, modifier, f\"{metric.capitalize()} is\", len(result))\n"
     ]
    }
   ],
   "source": [
    "# Define and train the classifier\n",
    "classifier_RF = MultiOutputClassifier(RandomForestClassifier())\n",
    "classifier_RF.fit(X_train, y_train)\n",
    "\n",
    "# Predict labels for test data\n",
    "y_pred_RF = classifier_RF.predict(X_test)\n",
    "\n",
    "# Evaluate performance\n",
    "accuracy = accuracy_score(y_test, y_pred_RF)\n",
    "print(\"Accuracy:\", accuracy)\n",
    "\n",
    "# Print classification report\n",
    "print(\"Classification Report:\")\n",
    "print(classification_report(y_test, y_pred_RF))"
   ]
  }
 ],
 "metadata": {
  "kernelspec": {
   "display_name": "Python 3 (ipykernel)",
   "language": "python",
   "name": "python3"
  },
  "language_info": {
   "codemirror_mode": {
    "name": "ipython",
    "version": 3
   },
   "file_extension": ".py",
   "mimetype": "text/x-python",
   "name": "python",
   "nbconvert_exporter": "python",
   "pygments_lexer": "ipython3",
   "version": "3.11.7"
  }
 },
 "nbformat": 4,
 "nbformat_minor": 5
}
