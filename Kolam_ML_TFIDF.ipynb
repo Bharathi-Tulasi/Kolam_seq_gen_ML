{
 "cells": [
  {
   "cell_type": "markdown",
   "id": "366a2672-9be2-4d1f-849e-bd166ff049ef",
   "metadata": {},
   "source": [
    "## Importing necessary libraries"
   ]
  },
  {
   "cell_type": "code",
   "execution_count": 34,
   "id": "ce2d2bee-6b33-495b-abb9-8fd71134dd51",
   "metadata": {},
   "outputs": [],
   "source": [
    "from sklearn.feature_extraction.text import TfidfVectorizer, CountVectorizer\n",
    "from sklearn.model_selection import train_test_split, GridSearchCV\n",
    "from sklearn.multioutput import MultiOutputClassifier\n",
    "from sklearn.ensemble import RandomForestClassifier\n",
    "from sklearn.metrics import accuracy_score, classification_report\n",
    "from sklearn.multioutput import MultiOutputClassifier\n",
    "\n",
    "import numpy as np\n",
    "import pandas as pd\n",
    "import matplotlib.pyplot as plt\n",
    "import seaborn as sns\n",
    "from sklearn.pipeline import Pipeline\n",
    "\n",
    "data = pd.read_csv('kolam_dataset_multilabels.csv')\n",
    "inputs = data['input']\n"
   ]
  },
  {
   "cell_type": "markdown",
   "id": "c5f1acd6-2333-49d9-827a-c13fccd71f57",
   "metadata": {},
   "source": [
    "## Inputs and labels info"
   ]
  },
  {
   "cell_type": "code",
   "execution_count": 35,
   "id": "40560408-fbee-47f9-9475-3f1c836ec125",
   "metadata": {},
   "outputs": [
    {
     "data": {
      "text/plain": [
       "0                               a\n",
       "1                               b\n",
       "2                               c\n",
       "3                               d\n",
       "4                              ab\n",
       "                  ...            \n",
       "155                  dbac c cd dc\n",
       "156          dbac c c cab b b bac\n",
       "157          dca a a acdb b b bdc\n",
       "158    bacd d dbac c cd d d d dba\n",
       "159           dbac c cd d d d dba\n",
       "Name: input, Length: 160, dtype: object"
      ]
     },
     "execution_count": 35,
     "metadata": {},
     "output_type": "execute_result"
    }
   ],
   "source": [
    "inputs"
   ]
  },
  {
   "cell_type": "code",
   "execution_count": 36,
   "id": "6aad776c-bd49-4238-a5ec-18fcb23382c9",
   "metadata": {},
   "outputs": [
    {
     "data": {
      "text/html": [
       "<div>\n",
       "<style scoped>\n",
       "    .dataframe tbody tr th:only-of-type {\n",
       "        vertical-align: middle;\n",
       "    }\n",
       "\n",
       "    .dataframe tbody tr th {\n",
       "        vertical-align: top;\n",
       "    }\n",
       "\n",
       "    .dataframe thead th {\n",
       "        text-align: right;\n",
       "    }\n",
       "</style>\n",
       "<table border=\"1\" class=\"dataframe\">\n",
       "  <thead>\n",
       "    <tr style=\"text-align: right;\">\n",
       "      <th></th>\n",
       "      <th>a</th>\n",
       "      <th>b</th>\n",
       "      <th>c</th>\n",
       "      <th>d</th>\n",
       "    </tr>\n",
       "  </thead>\n",
       "  <tbody>\n",
       "    <tr>\n",
       "      <th>0</th>\n",
       "      <td>1</td>\n",
       "      <td>1</td>\n",
       "      <td>1</td>\n",
       "      <td>0</td>\n",
       "    </tr>\n",
       "    <tr>\n",
       "      <th>1</th>\n",
       "      <td>1</td>\n",
       "      <td>1</td>\n",
       "      <td>0</td>\n",
       "      <td>1</td>\n",
       "    </tr>\n",
       "    <tr>\n",
       "      <th>2</th>\n",
       "      <td>1</td>\n",
       "      <td>0</td>\n",
       "      <td>1</td>\n",
       "      <td>1</td>\n",
       "    </tr>\n",
       "    <tr>\n",
       "      <th>3</th>\n",
       "      <td>0</td>\n",
       "      <td>1</td>\n",
       "      <td>1</td>\n",
       "      <td>1</td>\n",
       "    </tr>\n",
       "    <tr>\n",
       "      <th>4</th>\n",
       "      <td>0</td>\n",
       "      <td>1</td>\n",
       "      <td>0</td>\n",
       "      <td>0</td>\n",
       "    </tr>\n",
       "    <tr>\n",
       "      <th>...</th>\n",
       "      <td>...</td>\n",
       "      <td>...</td>\n",
       "      <td>...</td>\n",
       "      <td>...</td>\n",
       "    </tr>\n",
       "    <tr>\n",
       "      <th>155</th>\n",
       "      <td>1</td>\n",
       "      <td>0</td>\n",
       "      <td>1</td>\n",
       "      <td>0</td>\n",
       "    </tr>\n",
       "    <tr>\n",
       "      <th>156</th>\n",
       "      <td>0</td>\n",
       "      <td>0</td>\n",
       "      <td>1</td>\n",
       "      <td>1</td>\n",
       "    </tr>\n",
       "    <tr>\n",
       "      <th>157</th>\n",
       "      <td>1</td>\n",
       "      <td>0</td>\n",
       "      <td>1</td>\n",
       "      <td>0</td>\n",
       "    </tr>\n",
       "    <tr>\n",
       "      <th>158</th>\n",
       "      <td>1</td>\n",
       "      <td>0</td>\n",
       "      <td>1</td>\n",
       "      <td>0</td>\n",
       "    </tr>\n",
       "    <tr>\n",
       "      <th>159</th>\n",
       "      <td>1</td>\n",
       "      <td>0</td>\n",
       "      <td>1</td>\n",
       "      <td>0</td>\n",
       "    </tr>\n",
       "  </tbody>\n",
       "</table>\n",
       "<p>160 rows × 4 columns</p>\n",
       "</div>"
      ],
      "text/plain": [
       "     a  b  c  d\n",
       "0    1  1  1  0\n",
       "1    1  1  0  1\n",
       "2    1  0  1  1\n",
       "3    0  1  1  1\n",
       "4    0  1  0  0\n",
       "..  .. .. .. ..\n",
       "155  1  0  1  0\n",
       "156  0  0  1  1\n",
       "157  1  0  1  0\n",
       "158  1  0  1  0\n",
       "159  1  0  1  0\n",
       "\n",
       "[160 rows x 4 columns]"
      ]
     },
     "execution_count": 36,
     "metadata": {},
     "output_type": "execute_result"
    }
   ],
   "source": [
    "labels = data.drop(['input'], axis =1)\n",
    "labels"
   ]
  },
  {
   "cell_type": "markdown",
   "id": "e3a74f5f-b9da-492b-a846-a25cfa04a77b",
   "metadata": {},
   "source": [
    "## Labels Distribution to know whether the dataset is balanced or not"
   ]
  },
  {
   "cell_type": "code",
   "execution_count": 4,
   "id": "40f25755-60af-480d-ae4f-4660dc0bb503",
   "metadata": {},
   "outputs": [
    {
     "name": "stdout",
     "output_type": "stream",
     "text": [
      "Label Distribution:\n",
      "a    0.51875\n",
      "b    0.56250\n",
      "c    0.53125\n",
      "d    0.54375\n",
      "dtype: float64\n",
      "\n",
      "Label Counts:\n",
      "2    63\n",
      "3    61\n",
      "1    36\n",
      "Name: count, dtype: int64\n",
      "\n",
      "Class Ratios:\n",
      "a    0.51875\n",
      "b    0.56250\n",
      "c    0.53125\n",
      "d    0.54375\n",
      "dtype: float64\n"
     ]
    }
   ],
   "source": [
    "# Label Distribution\n",
    "label_distribution = labels.sum() / len(labels)\n",
    "print(\"Label Distribution:\")\n",
    "print(label_distribution)\n",
    "\n",
    "# Label Counts\n",
    "label_counts = labels.sum(axis=1).value_counts()\n",
    "print(\"\\nLabel Counts:\")\n",
    "print(label_counts)\n",
    "\n",
    "# Class Ratios\n",
    "class_ratios = labels.mean()\n",
    "print(\"\\nClass Ratios:\")\n",
    "print(class_ratios)"
   ]
  },
  {
   "cell_type": "markdown",
   "id": "21f0416e-70a5-4e8b-9041-b569c800f397",
   "metadata": {},
   "source": [
    "## Conversion of inputs to TF-IDF vectors to convert Kolam shapes into float values to apply algorithms"
   ]
  },
  {
   "cell_type": "code",
   "execution_count": 44,
   "id": "f046a376-43f4-4bb2-9187-560ec74be02d",
   "metadata": {},
   "outputs": [],
   "source": [
    "# Convert text data to TF-IDF vectors\n",
    "tfidf_vectorizer = TfidfVectorizer(token_pattern=r\"(?u)\\b\\w+\\b\")\n",
    "X = tfidf_vectorizer.fit_transform(inputs)\n",
    "\n",
    "# Split data into train and test sets\n",
    "X_train, X_test, y_train, y_test = train_test_split(X, labels, test_size=0.2, random_state=42, stratify = labels)\n",
    "\n",
    "\n"
   ]
  },
  {
   "cell_type": "markdown",
   "id": "2ffb3780-6a22-447d-89fc-39ae5929bc26",
   "metadata": {},
   "source": [
    "## Data distribution of inputs"
   ]
  },
  {
   "cell_type": "code",
   "execution_count": 6,
   "id": "9dfa2775-596b-4fa7-bb09-f5573e182a50",
   "metadata": {},
   "outputs": [
    {
     "data": {
      "image/png": "[encoded data removed]",
      "text/plain": [
       "<Figure size 640x480 with 1 Axes>"
      ]
     },
     "metadata": {},
     "output_type": "display_data"
    }
   ],
   "source": [
    "sns.kdeplot(data = X.toarray().flatten(), fill = True)\n",
    "plt.show()"
   ]
  },
  {
   "cell_type": "markdown",
   "id": "d129cf57-f175-4d6b-87da-9b82c33409f8",
   "metadata": {},
   "source": [
    "## Implementing Random Forest Classifier"
   ]
  },
  {
   "cell_type": "code",
   "execution_count": 7,
   "id": "e608646c-39d3-4303-ab8b-e2c84b6bdbea",
   "metadata": {},
   "outputs": [
    {
     "name": "stdout",
     "output_type": "stream",
     "text": [
      "Accuracy: 0.4375\n",
      "Classification Report:\n",
      "              precision    recall  f1-score   support\n",
      "\n",
      "           0       0.75      0.88      0.81        17\n",
      "           1       0.68      0.72      0.70        18\n",
      "           2       0.73      0.65      0.69        17\n",
      "           3       0.82      0.82      0.82        17\n",
      "\n",
      "   micro avg       0.75      0.77      0.76        69\n",
      "   macro avg       0.75      0.77      0.76        69\n",
      "weighted avg       0.75      0.77      0.76        69\n",
      " samples avg       0.78      0.73      0.72        69\n",
      "\n"
     ]
    }
   ],
   "source": [
    "\n",
    "# Define and train the classifier\n",
    "classifier_RF = MultiOutputClassifier(RandomForestClassifier())\n",
    "classifier_RF.fit(X_train, y_train)\n",
    "\n",
    "# Predict labels for test data\n",
    "y_pred_RF = classifier_RF.predict(X_test)\n",
    "\n",
    "# Evaluate performance\n",
    "accuracy = accuracy_score(y_test, y_pred_RF)\n",
    "print(\"Accuracy:\", accuracy)\n",
    "\n",
    "# Print classification report\n",
    "print(\"Classification Report:\")\n",
    "print(classification_report(y_test, y_pred_RF))"
   ]
  },
  {
   "cell_type": "code",
   "execution_count": 8,
   "id": "a6884d6b-c1df-4e44-98b2-731de16e15cd",
   "metadata": {},
   "outputs": [
    {
     "data": {
      "text/plain": [
       "{'estimator__bootstrap': True,\n",
       " 'estimator__ccp_alpha': 0.0,\n",
       " 'estimator__class_weight': None,\n",
       " 'estimator__criterion': 'gini',\n",
       " 'estimator__max_depth': None,\n",
       " 'estimator__max_features': 'sqrt',\n",
       " 'estimator__max_leaf_nodes': None,\n",
       " 'estimator__max_samples': None,\n",
       " 'estimator__min_impurity_decrease': 0.0,\n",
       " 'estimator__min_samples_leaf': 1,\n",
       " 'estimator__min_samples_split': 2,\n",
       " 'estimator__min_weight_fraction_leaf': 0.0,\n",
       " 'estimator__monotonic_cst': None,\n",
       " 'estimator__n_estimators': 100,\n",
       " 'estimator__n_jobs': None,\n",
       " 'estimator__oob_score': False,\n",
       " 'estimator__random_state': None,\n",
       " 'estimator__verbose': 0,\n",
       " 'estimator__warm_start': False,\n",
       " 'estimator': RandomForestClassifier(),\n",
       " 'n_jobs': None}"
      ]
     },
     "execution_count": 8,
     "metadata": {},
     "output_type": "execute_result"
    }
   ],
   "source": [
    "classifier_RF.get_params()"
   ]
  },
  {
   "cell_type": "markdown",
   "id": "421a6943-ba26-4aa0-a4cb-ad010509d9a1",
   "metadata": {},
   "source": [
    "## Logistic Regression"
   ]
  },
  {
   "cell_type": "code",
   "execution_count": 9,
   "id": "a68f68fb-540c-4202-a7f2-013b269cf2c6",
   "metadata": {},
   "outputs": [
    {
     "name": "stdout",
     "output_type": "stream",
     "text": [
      "Logistic Regression Accuracy: 0.40625\n",
      "Classification Report:\n",
      "              precision    recall  f1-score   support\n",
      "\n",
      "           0       0.80      0.94      0.86        17\n",
      "           1       0.65      0.83      0.73        18\n",
      "           2       0.71      0.59      0.65        17\n",
      "           3       0.83      0.88      0.86        17\n",
      "\n",
      "   micro avg       0.75      0.81      0.78        69\n",
      "   macro avg       0.75      0.81      0.77        69\n",
      "weighted avg       0.75      0.81      0.77        69\n",
      " samples avg       0.73      0.79      0.73        69\n",
      "\n"
     ]
    },
    {
     "name": "stderr",
     "output_type": "stream",
     "text": [
      "C:\\Users\\efm-workstation\\AppData\\Local\\Programs\\Python\\Python311\\Lib\\site-packages\\sklearn\\metrics\\_classification.py:1497: UndefinedMetricWarning: Precision is ill-defined and being set to 0.0 in samples with no predicted labels. Use `zero_division` parameter to control this behavior.\n",
      "  _warn_prf(average, modifier, f\"{metric.capitalize()} is\", len(result))\n"
     ]
    }
   ],
   "source": [
    "from sklearn.linear_model import LogisticRegression\n",
    "\n",
    "# Initialize and train logistic regression model\n",
    "logistic_regression_model = MultiOutputClassifier(LogisticRegression())\n",
    "logistic_regression_model.fit(X_train, y_train)\n",
    "\n",
    "# Predict labels for test data\n",
    "y_pred_log = logistic_regression_model.predict(X_test)\n",
    "\n",
    "\n",
    "# Evaluate the model\n",
    "logistic_regression_accuracy = logistic_regression_model.score(X_test, y_test)\n",
    "print(\"Logistic Regression Accuracy:\", logistic_regression_accuracy)\n",
    "\n",
    "# Print classification report\n",
    "print(\"Classification Report:\")\n",
    "print(classification_report(y_test, y_pred_log))\n"
   ]
  },
  {
   "cell_type": "markdown",
   "id": "b2a1921e-d34f-47a4-a012-a2e0b3faefa1",
   "metadata": {},
   "source": [
    "## SVM"
   ]
  },
  {
   "cell_type": "code",
   "execution_count": 10,
   "id": "c23bb730-91dd-4f20-b862-22fb5d77cb94",
   "metadata": {},
   "outputs": [
    {
     "name": "stdout",
     "output_type": "stream",
     "text": [
      "SVM Accuracy: 0.34375\n",
      "Classification Report:\n",
      "              precision    recall  f1-score   support\n",
      "\n",
      "           0       0.75      0.88      0.81        17\n",
      "           1       0.67      0.78      0.72        18\n",
      "           2       0.71      0.59      0.65        17\n",
      "           3       0.83      0.88      0.86        17\n",
      "\n",
      "   micro avg       0.74      0.78      0.76        69\n",
      "   macro avg       0.74      0.78      0.76        69\n",
      "weighted avg       0.74      0.78      0.76        69\n",
      " samples avg       0.76      0.77      0.72        69\n",
      "\n"
     ]
    }
   ],
   "source": [
    "from sklearn.svm import SVC\n",
    "\n",
    "# Initialize and train SVM model\n",
    "svm_model = MultiOutputClassifier(SVC())\n",
    "svm_model.fit(X_train, y_train)\n",
    "\n",
    "# Predict labels for test data\n",
    "y_pred_svm = svm_model.predict(X_test)\n",
    "\n",
    "# Evaluate the model\n",
    "svm_accuracy = svm_model.score(X_test, y_test)\n",
    "print(\"SVM Accuracy:\", svm_accuracy)\n",
    "\n",
    "\n",
    "# Print classification report\n",
    "print(\"Classification Report:\")\n",
    "print(classification_report(y_test, y_pred_svm))"
   ]
  },
  {
   "cell_type": "markdown",
   "id": "d56c9528-2f41-4b7e-857f-9b73b1264516",
   "metadata": {},
   "source": [
    "## KNN"
   ]
  },
  {
   "cell_type": "code",
   "execution_count": 11,
   "id": "54993ad8-c304-4a4f-8325-5cf49411a527",
   "metadata": {},
   "outputs": [
    {
     "name": "stdout",
     "output_type": "stream",
     "text": [
      "KNN Accuracy: 0.3125\n",
      "Classification Report:\n",
      "              precision    recall  f1-score   support\n",
      "\n",
      "           0       0.63      0.71      0.67        17\n",
      "           1       0.61      0.78      0.68        18\n",
      "           2       0.70      0.41      0.52        17\n",
      "           3       0.68      0.88      0.77        17\n",
      "\n",
      "   micro avg       0.65      0.70      0.67        69\n",
      "   macro avg       0.66      0.69      0.66        69\n",
      "weighted avg       0.65      0.70      0.66        69\n",
      " samples avg       0.64      0.67      0.62        69\n",
      "\n"
     ]
    },
    {
     "name": "stderr",
     "output_type": "stream",
     "text": [
      "C:\\Users\\efm-workstation\\AppData\\Local\\Programs\\Python\\Python311\\Lib\\site-packages\\sklearn\\metrics\\_classification.py:1497: UndefinedMetricWarning: Precision is ill-defined and being set to 0.0 in samples with no predicted labels. Use `zero_division` parameter to control this behavior.\n",
      "  _warn_prf(average, modifier, f\"{metric.capitalize()} is\", len(result))\n"
     ]
    }
   ],
   "source": [
    "from sklearn.neighbors import KNeighborsClassifier\n",
    "\n",
    "# Initialize and train KNN model\n",
    "knn_model = MultiOutputClassifier(KNeighborsClassifier())\n",
    "knn_model.fit(X_train, y_train)\n",
    "\n",
    "# Predict labels for test data\n",
    "y_pred_knn = knn_model.predict(X_test)\n",
    "\n",
    "\n",
    "# Evaluate the model\n",
    "knn_accuracy = knn_model.score(X_test, y_test)\n",
    "print(\"KNN Accuracy:\", knn_accuracy)\n",
    "\n",
    "\n",
    "# Print classification report\n",
    "print(\"Classification Report:\")\n",
    "print(classification_report(y_test, y_pred_knn))"
   ]
  },
  {
   "cell_type": "markdown",
   "id": "9051437f-424a-4098-a746-7ca1743d0442",
   "metadata": {},
   "source": [
    "## GBM"
   ]
  },
  {
   "cell_type": "code",
   "execution_count": 49,
   "id": "fef13d33-f0f9-4f64-9c24-7617f9713c8c",
   "metadata": {},
   "outputs": [
    {
     "name": "stdout",
     "output_type": "stream",
     "text": [
      "GBM Accuracy: 0.625\n",
      "Classification Report:\n",
      "              precision    recall  f1-score   support\n",
      "\n",
      "           0       0.80      0.94      0.86        17\n",
      "           1       0.70      0.89      0.78        18\n",
      "           2       0.81      0.76      0.79        17\n",
      "           3       0.85      1.00      0.92        17\n",
      "\n",
      "   micro avg       0.78      0.90      0.84        69\n",
      "   macro avg       0.79      0.90      0.84        69\n",
      "weighted avg       0.79      0.90      0.84        69\n",
      " samples avg       0.79      0.87      0.80        69\n",
      "\n"
     ]
    }
   ],
   "source": [
    "from sklearn.ensemble import GradientBoostingClassifier\n",
    "\n",
    "# Initialize and train GBM model\n",
    "gbm_model = MultiOutputClassifier(GradientBoostingClassifier())\n",
    "gbm_model.fit(X_train, y_train)\n",
    "\n",
    "\n",
    "# Predict labels for test data\n",
    "y_pred_gbm = gbm_model.predict(X_test)\n",
    "\n",
    "# Evaluate the model\n",
    "gbm_accuracy = gbm_model.score(X_test, y_test)\n",
    "print(\"GBM Accuracy:\", gbm_accuracy)\n",
    "\n",
    "\n",
    "# Print classification report\n",
    "print(\"Classification Report:\")\n",
    "print(classification_report(y_test, y_pred_gbm))"
   ]
  },
  {
   "cell_type": "code",
   "execution_count": 51,
   "id": "07cea551-69c1-4f71-93b9-6f6c9bd50893",
   "metadata": {},
   "outputs": [
    {
     "data": {
      "text/plain": [
       "{'estimator__ccp_alpha': 0.0,\n",
       " 'estimator__criterion': 'friedman_mse',\n",
       " 'estimator__init': None,\n",
       " 'estimator__learning_rate': 0.1,\n",
       " 'estimator__loss': 'log_loss',\n",
       " 'estimator__max_depth': 3,\n",
       " 'estimator__max_features': None,\n",
       " 'estimator__max_leaf_nodes': None,\n",
       " 'estimator__min_impurity_decrease': 0.0,\n",
       " 'estimator__min_samples_leaf': 1,\n",
       " 'estimator__min_samples_split': 2,\n",
       " 'estimator__min_weight_fraction_leaf': 0.0,\n",
       " 'estimator__n_estimators': 100,\n",
       " 'estimator__n_iter_no_change': None,\n",
       " 'estimator__random_state': None,\n",
       " 'estimator__subsample': 1.0,\n",
       " 'estimator__tol': 0.0001,\n",
       " 'estimator__validation_fraction': 0.1,\n",
       " 'estimator__verbose': 0,\n",
       " 'estimator__warm_start': False,\n",
       " 'estimator': GradientBoostingClassifier(),\n",
       " 'n_jobs': None}"
      ]
     },
     "execution_count": 51,
     "metadata": {},
     "output_type": "execute_result"
    }
   ],
   "source": [
    "gbm_model.get_params()"
   ]
  },
  {
   "cell_type": "markdown",
   "id": "90c0c7e6-3672-49de-a4fa-86e651fd53f4",
   "metadata": {},
   "source": [
    "## Applying GridSearchCV for applying cross validation and implementing the random forest classifier again"
   ]
  },
  {
   "cell_type": "code",
   "execution_count": 15,
   "id": "b3c84b08-25f0-496c-ad28-76cc29e4e408",
   "metadata": {},
   "outputs": [
    {
     "name": "stdout",
     "output_type": "stream",
     "text": [
      "Accuracy: 0.53125\n",
      "Classification Report:\n",
      "              precision    recall  f1-score   support\n",
      "\n",
      "           0       0.84      0.94      0.89        17\n",
      "           1       0.67      0.89      0.76        18\n",
      "           2       0.69      0.53      0.60        17\n",
      "           3       0.79      0.88      0.83        17\n",
      "\n",
      "   micro avg       0.75      0.81      0.78        69\n",
      "   macro avg       0.75      0.81      0.77        69\n",
      "weighted avg       0.75      0.81      0.77        69\n",
      " samples avg       0.73      0.76      0.72        69\n",
      "\n"
     ]
    }
   ],
   "source": [
    "pipeline = Pipeline([\n",
    "    ('clf', RandomForestClassifier())\n",
    "])\n",
    "\n",
    "# Define parameter grid for GridSearchCV\n",
    "param_grid = {\n",
    "    'clf__n_estimators': [100, 200, 300],\n",
    "    'clf__max_depth': [None, 10, 20],\n",
    "    'clf__min_samples_split': [2, 5, 10],\n",
    "    'clf__min_samples_leaf': [1, 2, 4]\n",
    "}\n",
    "\n",
    "# Initialize GridSearchCV\n",
    "grid_search = GridSearchCV(pipeline, param_grid, cv=5, scoring='accuracy')\n",
    "\n",
    "# Perform GridSearchCV\n",
    "grid_search.fit(X_train, y_train)\n",
    "\n",
    "# Get the best parameters\n",
    "best_params = grid_search.best_params_\n",
    "\n",
    "# Use the best model to make predictions\n",
    "best_model = grid_search.best_estimator_\n",
    "y_pred = best_model.predict(X_test)\n",
    "\n",
    "# Evaluate performance\n",
    "accuracy = accuracy_score(y_test, y_pred)\n",
    "print(\"Accuracy:\", accuracy)\n",
    "\n",
    "# Print classification report\n",
    "print(\"Classification Report:\")\n",
    "print(classification_report(y_test, y_pred))"
   ]
  },
  {
   "cell_type": "markdown",
   "id": "375410b8-1dd8-4051-a367-16d000d42dbd",
   "metadata": {},
   "source": [
    "## Balancing the dataset by randomly removing instances where there are more number of 2 labels and 3 labels than 1 label to make them equal in count"
   ]
  },
  {
   "cell_type": "code",
   "execution_count": null,
   "id": "19737e5b-c70e-43d2-8402-aea3811bd82a",
   "metadata": {},
   "outputs": [],
   "source": [
    "import pandas as pd\n",
    "\n",
    "\n",
    "\n",
    "# Number of instances to drop for each label combination\n",
    "num_instances_to_drop = 30\n",
    "\n",
    "# Get the indices of instances with two labels and three labels\n",
    "indices_two_labels = labels[(labels.sum(axis=1) == 2)].sample(num_instances_to_drop).index\n",
    "indices_three_labels = labels[(labels.sum(axis=1) == 3)].sample(num_instances_to_drop).index\n",
    "\n",
    "# Drop instances from the DataFrame\n",
    "data_balanced = data.drop(indices_two_labels.union(indices_three_labels))\n",
    "labels_balanced = labels.drop(indices_two_labels.union(indices_three_labels))\n",
    "\n",
    "# Check the new label distribution\n",
    "print(labels_balanced.sum(axis=0))\n",
    "\n",
    "\n",
    "# Label Counts\n",
    "label_balanced_counts = labels_balanced.sum(axis=1).value_counts()\n",
    "print(\"\\nLabel Counts:\")\n",
    "print(label_balanced_counts)"
   ]
  },
  {
   "cell_type": "markdown",
   "id": "63de8210-8c93-4ba9-affa-0cac6374327b",
   "metadata": {},
   "source": [
    "## Balanced data"
   ]
  },
  {
   "cell_type": "code",
   "execution_count": null,
   "id": "1e9f675c-33ff-43d9-b1cd-fc44629d56f6",
   "metadata": {},
   "outputs": [],
   "source": [
    "data_balanced"
   ]
  },
  {
   "cell_type": "markdown",
   "id": "e5315be6-3c5e-4dea-ae67-2d00f0faca22",
   "metadata": {},
   "source": [
    "## Balanced inputs and labels"
   ]
  },
  {
   "cell_type": "code",
   "execution_count": null,
   "id": "143e2846-d890-4d19-9c6e-cb9c83d6ab8d",
   "metadata": {},
   "outputs": [],
   "source": [
    "balanced_inputs = data_balanced['input']\n",
    "balanced_labels = data_balanced.drop(['input'], axis = 1)\n"
   ]
  },
  {
   "cell_type": "code",
   "execution_count": null,
   "id": "4d654d80-b2ea-44ce-816b-7223670ada99",
   "metadata": {},
   "outputs": [],
   "source": [
    "balanced_inputs"
   ]
  },
  {
   "cell_type": "code",
   "execution_count": null,
   "id": "c6d2e85e-b59d-4067-8d40-62a9e4409541",
   "metadata": {},
   "outputs": [],
   "source": [
    "balanced_labels"
   ]
  },
  {
   "cell_type": "markdown",
   "id": "85ba9498-cd57-4645-9c23-c6e0bae4dc75",
   "metadata": {},
   "source": [
    "## Applying TF-IDF on balanced data and splitting into train and test sets"
   ]
  },
  {
   "cell_type": "code",
   "execution_count": null,
   "id": "5bb8b2d3-3874-4a1d-a4e6-823b74d316fd",
   "metadata": {},
   "outputs": [],
   "source": [
    "# Convert text data to TF-IDF vectors\n",
    "tfidf_vectorizer = TfidfVectorizer(token_pattern=r\"(?u)\\b\\w+\\b\")\n",
    "X_balanced = tfidf_vectorizer.fit_transform(balanced_inputs)\n",
    "\n",
    "# Split data into train and test sets\n",
    "X_train_balanced, X_test_balanced, y_train_balanced, y_test_balanced = train_test_split(X_balanced, balanced_labels, \n",
    "                                                                                        test_size=0.2, random_state=42, stratify = balanced_labels)"
   ]
  },
  {
   "cell_type": "markdown",
   "id": "ceb388a0-4b50-4ba9-b13e-26af77109f62",
   "metadata": {},
   "source": [
    "## Implementing Random Forest Classifier on the dropped and balanced dataset"
   ]
  },
  {
   "cell_type": "code",
   "execution_count": null,
   "id": "0d5f3550-bfb0-485b-888b-37496ae7179d",
   "metadata": {},
   "outputs": [],
   "source": [
    "# Define and train the classifier\n",
    "classifier = MultiOutputClassifier(RandomForestClassifier())\n",
    "classifier.fit(X_train_balanced, y_train_balanced)\n",
    "\n",
    "# Predict labels for test data\n",
    "y_pred_balanced = classifier.predict(X_test_balanced)\n",
    "\n",
    "# Evaluate performance\n",
    "accuracy_balanced = accuracy_score(y_test_balanced, y_pred_balanced)\n",
    "print(\"Accuracy:\", accuracy_balanced)\n",
    "\n",
    "# Print classification report\n",
    "print(\"Classification Report:\")\n",
    "print(classification_report(y_test_balanced, y_pred_balanced))"
   ]
  },
  {
   "cell_type": "markdown",
   "id": "71fa3dde-0aec-4f4e-9ef2-b7b678eb971c",
   "metadata": {},
   "source": [
    "#### Accuracy dropped to 35% due to loss of datapoints from the dataset even though dataset is balanced"
   ]
  },
  {
   "cell_type": "code",
   "execution_count": null,
   "id": "848d5cf7-fa52-4ba1-942f-24a514a69ce5",
   "metadata": {},
   "outputs": [],
   "source": [
    "pipeline = Pipeline([\n",
    "    ('clf', RandomForestClassifier())\n",
    "])\n",
    "\n",
    "# Define parameter grid for GridSearchCV\n",
    "param_grid = {\n",
    "    'clf__n_estimators': [100, 200, 300],\n",
    "    'clf__max_depth': [None, 10, 20],\n",
    "    'clf__min_samples_split': [2, 5, 10],\n",
    "    'clf__min_samples_leaf': [1, 2, 4]\n",
    "}\n",
    "\n",
    "# Initialize GridSearchCV\n",
    "grid_search = GridSearchCV(pipeline, param_grid, cv=5, scoring='accuracy')\n",
    "\n",
    "# Perform GridSearchCV\n",
    "grid_search.fit(X_train_balanced, y_train_balanced)\n",
    "\n",
    "# Get the best parameters\n",
    "best_params = grid_search.best_params_\n",
    "\n",
    "# Use the best model to make predictions\n",
    "best_model = grid_search.best_estimator_\n",
    "y_pred = best_model.predict(X_test_balanced)\n",
    "\n",
    "# Evaluate performance\n",
    "accuracy = accuracy_score(y_test_balanced, y_pred)\n",
    "print(\"Accuracy:\", accuracy)\n",
    "\n",
    "# Print classification report\n",
    "print(\"Classification Report:\")\n",
    "print(classification_report(y_test_balanced, y_pred))"
   ]
  },
  {
   "cell_type": "markdown",
   "id": "af6e0170-0b0f-47bc-b972-1c9d9366cfb7",
   "metadata": {},
   "source": [
    "#### After GridSearchCV also, accuracy dropped to 35% due to loss of datapoints from the dataset even though dataset is balanced"
   ]
  },
  {
   "cell_type": "markdown",
   "id": "54747c54-7c83-4470-b2af-93d79779f84e",
   "metadata": {},
   "source": [
    "## Predicting labels on the GBM model with 56% accuracy"
   ]
  },
  {
   "cell_type": "code",
   "execution_count": 21,
   "id": "10c6439c-d986-45e2-a9b4-8a74f9aa139a",
   "metadata": {},
   "outputs": [
    {
     "data": {
      "text/plain": [
       "array([[0, 0, 1, 1]], dtype=int64)"
      ]
     },
     "execution_count": 21,
     "metadata": {},
     "output_type": "execute_result"
    }
   ],
   "source": [
    "X_new = ['dbac bd']\n",
    "X_new_transf = tfidf_vectorizer.transform(X_new)\n",
    "\n",
    "y_new_pred = gbm_model.predict(X_new_transf)\n",
    "y_new_pred"
   ]
  },
  {
   "cell_type": "markdown",
   "id": "b3627529-f4e6-4709-9ead-b7d79c76abca",
   "metadata": {},
   "source": [
    "## Predicting probabilities for all labels and their classes"
   ]
  },
  {
   "cell_type": "code",
   "execution_count": 22,
   "id": "cbf6b567-f216-43b5-b383-927c90ca27f6",
   "metadata": {},
   "outputs": [
    {
     "data": {
      "text/plain": [
       "[array([[0.86270158, 0.13729842]]),\n",
       " array([[0.85515113, 0.14484887]]),\n",
       " array([[0.42966245, 0.57033755]]),\n",
       " array([[0.07876098, 0.92123902]])]"
      ]
     },
     "execution_count": 22,
     "metadata": {},
     "output_type": "execute_result"
    }
   ],
   "source": [
    "# Predict probabilities for each class\n",
    "y_pred_proba = gbm_model.predict_proba(X_new_transf)\n",
    "y_pred_proba"
   ]
  }
 ],
 "metadata": {
  "kernelspec": {
   "display_name": "Python 3 (ipykernel)",
   "language": "python",
   "name": "python3"
  },
  "language_info": {
   "codemirror_mode": {
    "name": "ipython",
    "version": 3
   },
   "file_extension": ".py",
   "mimetype": "text/x-python",
   "name": "python",
   "nbconvert_exporter": "python",
   "pygments_lexer": "ipython3",
   "version": "3.11.7"
  }
 },
 "nbformat": 4,
 "nbformat_minor": 5
}
