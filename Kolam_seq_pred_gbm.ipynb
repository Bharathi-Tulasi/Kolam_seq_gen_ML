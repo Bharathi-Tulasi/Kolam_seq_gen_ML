{
 "cells": [
  {
   "cell_type": "markdown",
   "id": "9f78a5e5-4804-42e4-a6c2-251f1dbbdfed",
   "metadata": {},
   "source": [
    "## Importing the libraries"
   ]
  },
  {
   "cell_type": "code",
   "execution_count": 1,
   "id": "7c3d0a04-e44c-46ab-af1a-1c06882cbf49",
   "metadata": {},
   "outputs": [
    {
     "name": "stderr",
     "output_type": "stream",
     "text": [
      "C:\\Users\\efm-workstation\\AppData\\Local\\Temp\\ipykernel_1048\\1838615786.py:9: DeprecationWarning: \n",
      "Pyarrow will become a required dependency of pandas in the next major release of pandas (pandas 3.0),\n",
      "(to allow more performant data types, such as the Arrow string type, and better interoperability with other libraries)\n",
      "but was not found to be installed on your system.\n",
      "If this would cause problems for you,\n",
      "please provide us feedback at https://github.com/pandas-dev/pandas/issues/54466\n",
      "        \n",
      "  import pandas as pd\n"
     ]
    }
   ],
   "source": [
    "from sklearn.feature_extraction.text import TfidfVectorizer, CountVectorizer\n",
    "from sklearn.model_selection import train_test_split, GridSearchCV\n",
    "from sklearn.multioutput import MultiOutputClassifier\n",
    "from sklearn.ensemble import RandomForestClassifier\n",
    "from sklearn.metrics import accuracy_score, classification_report\n",
    "from sklearn.multioutput import MultiOutputClassifier\n",
    "\n",
    "import numpy as np\n",
    "import pandas as pd\n",
    "import matplotlib.pyplot as plt\n",
    "import seaborn as sns\n",
    "from sklearn.pipeline import Pipeline"
   ]
  },
  {
   "cell_type": "markdown",
   "id": "250b3f03-38d5-47b1-8b16-174fc2fa6863",
   "metadata": {},
   "source": [
    "## Loading the dataset"
   ]
  },
  {
   "cell_type": "code",
   "execution_count": 2,
   "id": "6621f77f-8854-4ccc-ac88-27c30a62d40b",
   "metadata": {},
   "outputs": [],
   "source": [
    "data = pd.read_csv('kolam_dataset_multilabels.csv')\n",
    "inputs = data['input']"
   ]
  },
  {
   "cell_type": "code",
   "execution_count": 3,
   "id": "558a1f78-eb84-4af1-a178-9edb4d892d06",
   "metadata": {},
   "outputs": [
    {
     "data": {
      "text/plain": [
       "0                               a\n",
       "1                               b\n",
       "2                               c\n",
       "3                               d\n",
       "4                              ab\n",
       "                  ...            \n",
       "155                  dbac c cd dc\n",
       "156          dbac c c cab b b bac\n",
       "157          dca a a acdb b b bdc\n",
       "158    bacd d dbac c cd d d d dba\n",
       "159           dbac c cd d d d dba\n",
       "Name: input, Length: 160, dtype: object"
      ]
     },
     "execution_count": 3,
     "metadata": {},
     "output_type": "execute_result"
    }
   ],
   "source": [
    "inputs"
   ]
  },
  {
   "cell_type": "code",
   "execution_count": 4,
   "id": "6273591d-b5f0-46d3-b10a-fa43e2ac95bc",
   "metadata": {},
   "outputs": [
    {
     "data": {
      "text/html": [
       "<div>\n",
       "<style scoped>\n",
       "    .dataframe tbody tr th:only-of-type {\n",
       "        vertical-align: middle;\n",
       "    }\n",
       "\n",
       "    .dataframe tbody tr th {\n",
       "        vertical-align: top;\n",
       "    }\n",
       "\n",
       "    .dataframe thead th {\n",
       "        text-align: right;\n",
       "    }\n",
       "</style>\n",
       "<table border=\"1\" class=\"dataframe\">\n",
       "  <thead>\n",
       "    <tr style=\"text-align: right;\">\n",
       "      <th></th>\n",
       "      <th>a</th>\n",
       "      <th>b</th>\n",
       "      <th>c</th>\n",
       "      <th>d</th>\n",
       "    </tr>\n",
       "  </thead>\n",
       "  <tbody>\n",
       "    <tr>\n",
       "      <th>0</th>\n",
       "      <td>1</td>\n",
       "      <td>1</td>\n",
       "      <td>1</td>\n",
       "      <td>0</td>\n",
       "    </tr>\n",
       "    <tr>\n",
       "      <th>1</th>\n",
       "      <td>1</td>\n",
       "      <td>1</td>\n",
       "      <td>0</td>\n",
       "      <td>1</td>\n",
       "    </tr>\n",
       "    <tr>\n",
       "      <th>2</th>\n",
       "      <td>1</td>\n",
       "      <td>0</td>\n",
       "      <td>1</td>\n",
       "      <td>1</td>\n",
       "    </tr>\n",
       "    <tr>\n",
       "      <th>3</th>\n",
       "      <td>0</td>\n",
       "      <td>1</td>\n",
       "      <td>1</td>\n",
       "      <td>1</td>\n",
       "    </tr>\n",
       "    <tr>\n",
       "      <th>4</th>\n",
       "      <td>0</td>\n",
       "      <td>1</td>\n",
       "      <td>0</td>\n",
       "      <td>0</td>\n",
       "    </tr>\n",
       "    <tr>\n",
       "      <th>...</th>\n",
       "      <td>...</td>\n",
       "      <td>...</td>\n",
       "      <td>...</td>\n",
       "      <td>...</td>\n",
       "    </tr>\n",
       "    <tr>\n",
       "      <th>155</th>\n",
       "      <td>1</td>\n",
       "      <td>0</td>\n",
       "      <td>1</td>\n",
       "      <td>0</td>\n",
       "    </tr>\n",
       "    <tr>\n",
       "      <th>156</th>\n",
       "      <td>0</td>\n",
       "      <td>0</td>\n",
       "      <td>1</td>\n",
       "      <td>1</td>\n",
       "    </tr>\n",
       "    <tr>\n",
       "      <th>157</th>\n",
       "      <td>1</td>\n",
       "      <td>0</td>\n",
       "      <td>1</td>\n",
       "      <td>0</td>\n",
       "    </tr>\n",
       "    <tr>\n",
       "      <th>158</th>\n",
       "      <td>1</td>\n",
       "      <td>0</td>\n",
       "      <td>1</td>\n",
       "      <td>0</td>\n",
       "    </tr>\n",
       "    <tr>\n",
       "      <th>159</th>\n",
       "      <td>1</td>\n",
       "      <td>0</td>\n",
       "      <td>1</td>\n",
       "      <td>0</td>\n",
       "    </tr>\n",
       "  </tbody>\n",
       "</table>\n",
       "<p>160 rows × 4 columns</p>\n",
       "</div>"
      ],
      "text/plain": [
       "     a  b  c  d\n",
       "0    1  1  1  0\n",
       "1    1  1  0  1\n",
       "2    1  0  1  1\n",
       "3    0  1  1  1\n",
       "4    0  1  0  0\n",
       "..  .. .. .. ..\n",
       "155  1  0  1  0\n",
       "156  0  0  1  1\n",
       "157  1  0  1  0\n",
       "158  1  0  1  0\n",
       "159  1  0  1  0\n",
       "\n",
       "[160 rows x 4 columns]"
      ]
     },
     "execution_count": 4,
     "metadata": {},
     "output_type": "execute_result"
    }
   ],
   "source": [
    "labels = data.drop(['input'], axis =1)\n",
    "labels"
   ]
  },
  {
   "cell_type": "markdown",
   "id": "a3988789-a120-4df1-b217-125667a9e653",
   "metadata": {},
   "source": [
    "## Converting inputs to TF-IDF vectors\n",
    "## Splitting the data into train and test sets"
   ]
  },
  {
   "cell_type": "code",
   "execution_count": 5,
   "id": "c53d329f-eb65-40cc-a2c9-7549b6052ab6",
   "metadata": {},
   "outputs": [],
   "source": [
    "# Convert text data to TF-IDF vectors\n",
    "tfidf_vectorizer = TfidfVectorizer(token_pattern=r\"(?u)\\b\\w+\\b\")\n",
    "X = tfidf_vectorizer.fit_transform(inputs)\n",
    "\n",
    "# Split data into train and test sets\n",
    "X_train, X_test, y_train, y_test = train_test_split(X, labels, test_size=0.2, random_state=42, stratify = labels)"
   ]
  },
  {
   "cell_type": "markdown",
   "id": "b350e1ff-0236-44c1-bb27-6bcf2764eb4c",
   "metadata": {},
   "source": [
    "## Applying Gradient Boosting Classifier model"
   ]
  },
  {
   "cell_type": "code",
   "execution_count": 6,
   "id": "e008530e-d9eb-4476-b863-18352870ea0b",
   "metadata": {},
   "outputs": [
    {
     "name": "stdout",
     "output_type": "stream",
     "text": [
      "GBM Accuracy: 0.5625\n",
      "Classification Report:\n",
      "              precision    recall  f1-score   support\n",
      "\n",
      "           0       0.76      0.94      0.84        17\n",
      "           1       0.68      0.83      0.75        18\n",
      "           2       0.87      0.76      0.81        17\n",
      "           3       0.84      0.94      0.89        17\n",
      "\n",
      "   micro avg       0.78      0.87      0.82        69\n",
      "   macro avg       0.79      0.87      0.82        69\n",
      "weighted avg       0.79      0.87      0.82        69\n",
      " samples avg       0.78      0.84      0.78        69\n",
      "\n"
     ]
    }
   ],
   "source": [
    "from sklearn.ensemble import GradientBoostingClassifier\n",
    "\n",
    "# Initialize and train GBM model\n",
    "gbm_model = MultiOutputClassifier(GradientBoostingClassifier())\n",
    "gbm_model.fit(X_train, y_train)\n",
    "\n",
    "\n",
    "# Predict labels for test data\n",
    "y_pred_gbm = gbm_model.predict(X_test)\n",
    "\n",
    "# Evaluate the model\n",
    "gbm_accuracy = gbm_model.score(X_test, y_test)\n",
    "print(\"GBM Accuracy:\", gbm_accuracy)\n",
    "\n",
    "\n",
    "# Print classification report\n",
    "print(\"Classification Report:\")\n",
    "print(classification_report(y_test, y_pred_gbm))"
   ]
  },
  {
   "cell_type": "markdown",
   "id": "7a178fb3-21aa-44d2-a740-bfb0b89c7053",
   "metadata": {},
   "source": [
    "## Getting the parameters of the model with good accuracy"
   ]
  },
  {
   "cell_type": "code",
   "execution_count": 7,
   "id": "7490254c-3383-4b1b-8106-3c355a2091ab",
   "metadata": {},
   "outputs": [
    {
     "data": {
      "text/plain": [
       "{'estimator__ccp_alpha': 0.0,\n",
       " 'estimator__criterion': 'friedman_mse',\n",
       " 'estimator__init': None,\n",
       " 'estimator__learning_rate': 0.1,\n",
       " 'estimator__loss': 'log_loss',\n",
       " 'estimator__max_depth': 3,\n",
       " 'estimator__max_features': None,\n",
       " 'estimator__max_leaf_nodes': None,\n",
       " 'estimator__min_impurity_decrease': 0.0,\n",
       " 'estimator__min_samples_leaf': 1,\n",
       " 'estimator__min_samples_split': 2,\n",
       " 'estimator__min_weight_fraction_leaf': 0.0,\n",
       " 'estimator__n_estimators': 100,\n",
       " 'estimator__n_iter_no_change': None,\n",
       " 'estimator__random_state': None,\n",
       " 'estimator__subsample': 1.0,\n",
       " 'estimator__tol': 0.0001,\n",
       " 'estimator__validation_fraction': 0.1,\n",
       " 'estimator__verbose': 0,\n",
       " 'estimator__warm_start': False,\n",
       " 'estimator': GradientBoostingClassifier(),\n",
       " 'n_jobs': None}"
      ]
     },
     "execution_count": 7,
     "metadata": {},
     "output_type": "execute_result"
    }
   ],
   "source": [
    "gbm_model.get_params()"
   ]
  },
  {
   "cell_type": "markdown",
   "id": "645682a4-a296-4687-9b30-8d6ea0938d53",
   "metadata": {},
   "source": [
    "## Predicting the sequence of Kolam upto certain length (max_length)"
   ]
  },
  {
   "cell_type": "code",
   "execution_count": 18,
   "id": "c3a15d6c-584c-454e-8a00-99a3aa38b172",
   "metadata": {},
   "outputs": [
    {
     "data": {
      "text/plain": [
       "['cab b ba a']"
      ]
     },
     "execution_count": 18,
     "metadata": {},
     "output_type": "execute_result"
    }
   ],
   "source": [
    "input_sequence = ['ca']\n",
    "# Define the maximum length for the sequence\n",
    "max_length = 10\n",
    "\n",
    "# Initialize an empty list to store the labels\n",
    "predicted_labels = []\n",
    "\n",
    "# Perform TF-IDF transformation and prediction until the sequence length reaches max_length\n",
    "while len(input_sequence[0]) < max_length:\n",
    "    # Perform TF-IDF transformation on the input sequence\n",
    "    \n",
    "    X_new_transf = tfidf_vectorizer.transform(input_sequence)\n",
    "    # Predict using GBM model\n",
    "    predicted_label_index = gbm_model.predict(X_new_transf)[0]\n",
    "    # Predict probabilities for each class\n",
    "    y_pred_proba = gbm_model.predict_proba(X_new_transf)\n",
    "    \n",
    "    class_1_probs = [arr[0][1] for arr in y_pred_proba]\n",
    "\n",
    "# Find the index of the array with the highest probability in positive class\n",
    "    max_prob_index = np.argmax(class_1_probs)\n",
    "\n",
    "    label_names = ['a', 'b', 'c', 'd']  # The order of the labels to map with predicted index\n",
    "\n",
    "# Get the label name corresponding to the index\n",
    "    predicted_label = label_names[max_prob_index]\n",
    "\n",
    "# Print the predicted label with the highest probability for class 1\n",
    "    #print(\"Predicted label with highest probability:\", predicted_label)\n",
    "    \n",
    "    if predicted_label == \"a\":\n",
    "        if input_sequence[0][-1] == \"a\":\n",
    "            input_sequence[0] += \" \" + \"a\"\n",
    "        else:\n",
    "            input_sequence[0] += \"a\"\n",
    "    \n",
    "    elif predicted_label == \"b\":\n",
    "        if input_sequence[0][-1] == \"b\":\n",
    "            input_sequence[0] += \" \" + \"b\"\n",
    "        else:\n",
    "            input_sequence[0] += \"b\"\n",
    "    elif predicted_label == \"c\":\n",
    "        if input_sequence[0][-1] == \"c\":\n",
    "            input_sequence[0] += \" \" + \"c\"\n",
    "        else:\n",
    "            input_sequence[0] += \"c\"\n",
    "    elif predicted_label == \"d\":\n",
    "        if input_sequence[0][-1] == \"d\":\n",
    "            input_sequence[0] += \" \" + \"d\"\n",
    "        else:\n",
    "            input_sequence[0] += \"d\"\n",
    "\n",
    "input_sequence = [input_sequence[0]]\n",
    "input_sequence"
   ]
  }
 ],
 "metadata": {
  "kernelspec": {
   "display_name": "Python 3 (ipykernel)",
   "language": "python",
   "name": "python3"
  },
  "language_info": {
   "codemirror_mode": {
    "name": "ipython",
    "version": 3
   },
   "file_extension": ".py",
   "mimetype": "text/x-python",
   "name": "python",
   "nbconvert_exporter": "python",
   "pygments_lexer": "ipython3",
   "version": "3.11.7"
  }
 },
 "nbformat": 4,
 "nbformat_minor": 5
}
